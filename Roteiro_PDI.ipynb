{
  "cells": [
    {
      "cell_type": "markdown",
      "metadata": {
        "id": "view-in-github",
        "colab_type": "text"
      },
      "source": [
        "<a href=\"https://colab.research.google.com/github/lescarpi/pdi-2025/blob/main/Roteiro_PDI.ipynb\" target=\"_parent\"><img src=\"https://colab.research.google.com/assets/colab-badge.svg\" alt=\"Open In Colab\"/></a>"
      ]
    },
    {
      "cell_type": "markdown",
      "metadata": {
        "id": "4vVSAZIwsl0s"
      },
      "source": [
        "🍎 Identificação da Qualidade de Frutas\n",
        "\n",
        "📝 Introdução\n",
        "\n",
        "Este notebook tem como objetivo demonstrar como técnicas de processamento de\n",
        "imagens podem ser combinadas com modelos de Machine Learning para detecção de\n",
        "alimentos estragados, neste caso, com foco específico em maçãs.\n",
        "\n",
        "⚙ Método\n",
        "\n",
        "Utilizaremos um dataset com imagens de maçãs saudáveis e podres, cada uma\n",
        "das imagens será processada com as seguintes técnicas:\n",
        "- Filtro Gaussiano para suavização e diminuição de imperfeições.\n",
        "- CLAHE para melhoramento do contraste.\n",
        "- Erosão seguida de dilatação para remover ruídos.\n",
        "\n",
        "Após isso será feito o treinamento do modelo de Rede Neural Convolucional (CNN)\n",
        "utilizando a biblioteca Keras.\n",
        "\n",
        "💻 Usabilidade\n",
        "\n",
        "O usuário participará de um jogo que consiste na apresentação de 15 imagens\n",
        "de maçãs e o mesmo terá que responder se as frutas estão saudáveis ou não,\n",
        "em seguida será demonstrado a eficiência do modelo para as mesmas imagens.\n",
        "\n",
        "Não é necessário rodar todos os trechos de código para a competição interativa\n",
        "com o modelo, caso queira pular, rode apenas a partir do penúltimo trecho de código, que carrega o modelo.\n",
        "\n",
        "Vamos iniciar instalando a API do Kaggle para fazer o download do dataset:"
      ]
    },
    {
      "cell_type": "code",
      "execution_count": null,
      "metadata": {
        "colab": {
          "background_save": true,
          "base_uri": "https://localhost:8080/"
        },
        "id": "B6yENiT5u3Vv",
        "outputId": "29f750d7-31af-440b-a315-a01f1df67d3c"
      },
      "outputs": [
        {
          "name": "stdout",
          "output_type": "stream",
          "text": [
            "Requirement already satisfied: kaggle in /usr/local/lib/python3.11/dist-packages (1.7.4.2)\n",
            "Requirement already satisfied: bleach in /usr/local/lib/python3.11/dist-packages (from kaggle) (6.2.0)\n",
            "Requirement already satisfied: certifi>=14.05.14 in /usr/local/lib/python3.11/dist-packages (from kaggle) (2025.1.31)\n",
            "Requirement already satisfied: charset-normalizer in /usr/local/lib/python3.11/dist-packages (from kaggle) (3.4.1)\n",
            "Requirement already satisfied: idna in /usr/local/lib/python3.11/dist-packages (from kaggle) (3.10)\n",
            "Requirement already satisfied: protobuf in /usr/local/lib/python3.11/dist-packages (from kaggle) (5.29.4)\n",
            "Requirement already satisfied: python-dateutil>=2.5.3 in /usr/local/lib/python3.11/dist-packages (from kaggle) (2.8.2)\n",
            "Requirement already satisfied: python-slugify in /usr/local/lib/python3.11/dist-packages (from kaggle) (8.0.4)\n",
            "Requirement already satisfied: requests in /usr/local/lib/python3.11/dist-packages (from kaggle) (2.32.3)\n",
            "Requirement already satisfied: setuptools>=21.0.0 in /usr/local/lib/python3.11/dist-packages (from kaggle) (75.2.0)\n",
            "Requirement already satisfied: six>=1.10 in /usr/local/lib/python3.11/dist-packages (from kaggle) (1.17.0)\n",
            "Requirement already satisfied: text-unidecode in /usr/local/lib/python3.11/dist-packages (from kaggle) (1.3)\n",
            "Requirement already satisfied: tqdm in /usr/local/lib/python3.11/dist-packages (from kaggle) (4.67.1)\n",
            "Requirement already satisfied: urllib3>=1.15.1 in /usr/local/lib/python3.11/dist-packages (from kaggle) (2.3.0)\n",
            "Requirement already satisfied: webencodings in /usr/local/lib/python3.11/dist-packages (from kaggle) (0.5.1)\n"
          ]
        }
      ],
      "source": [
        "!pip install kaggle"
      ]
    },
    {
      "cell_type": "markdown",
      "metadata": {
        "id": "GK5d5VIMyHJ9"
      },
      "source": [
        "Configuração das credenciais necessárias para uso da API"
      ]
    },
    {
      "cell_type": "code",
      "execution_count": null,
      "metadata": {
        "id": "fYTuvPTTyiR1"
      },
      "outputs": [],
      "source": [
        "import os\n",
        "import json\n",
        "\n",
        "# Criação do diretório de configuração do Kaggle\n",
        "os.makedirs('/root/.kaggle', exist_ok=True)\n",
        "\n",
        "# Credenciais\n",
        "kaggle_token = {\n",
        "    \"username\": \"lescarpi\",\n",
        "    \"key\": \"ca3028ff182e37ea32f5552a65b37a5e\"\n",
        "}\n",
        "\n",
        "# Salvando as credenciais como um arquivo JSON\n",
        "with open('/root/.kaggle/kaggle.json', 'w') as file:\n",
        "    json.dump(kaggle_token, file)\n",
        "\n",
        "# Ajustando permissões\n",
        "os.chmod('/root/.kaggle/kaggle.json', 0o600)"
      ]
    },
    {
      "cell_type": "markdown",
      "metadata": {
        "id": "PVeYezY7ywkF"
      },
      "source": [
        "Realizando autenticação e baixando o dataset"
      ]
    },
    {
      "cell_type": "code",
      "execution_count": null,
      "metadata": {
        "colab": {
          "base_uri": "https://localhost:8080/"
        },
        "id": "hCmnMpISy0Mn",
        "outputId": "530b5fd4-05a6-46e0-a21b-9e9ace428b37"
      },
      "outputs": [
        {
          "name": "stdout",
          "output_type": "stream",
          "text": [
            "Dataset URL: https://www.kaggle.com/datasets/lescarpi/apple-disease-dataset\n",
            "['Apples Disease Dataset', 'Apples Disease Processed Dataset']\n"
          ]
        }
      ],
      "source": [
        "from kaggle.api.kaggle_api_extended import KaggleApi\n",
        "\n",
        "# Criando diretório se não existir\n",
        "dataset_path = \"/content/dataset\"\n",
        "if not os.path.exists(dataset_path):\n",
        "    os.makedirs(dataset_path)\n",
        "\n",
        "api = KaggleApi()\n",
        "api.authenticate()\n",
        "\n",
        "api.dataset_download_files('lescarpi/apple-disease-dataset', path=dataset_path, unzip=True)\n",
        "\n",
        "# Verificando os arquivos baixados\n",
        "print(os.listdir(dataset_path))"
      ]
    },
    {
      "cell_type": "markdown",
      "metadata": {
        "id": "-hhfO11nMzB8"
      },
      "source": [
        "Com as imagens baixadas, vamos definir as funções que serão utilizadas para processamento"
      ]
    },
    {
      "cell_type": "code",
      "execution_count": null,
      "metadata": {
        "colab": {
          "base_uri": "https://localhost:8080/"
        },
        "id": "5ISLNBMlM-p9",
        "outputId": "9bc20c8e-0c6d-425b-fe10-da7174fe25e0"
      },
      "outputs": [
        {
          "name": "stdout",
          "output_type": "stream",
          "text": [
            "Requirement already satisfied: opencv-python in /usr/local/lib/python3.11/dist-packages (4.11.0.86)\n",
            "Requirement already satisfied: numpy>=1.21.2 in /usr/local/lib/python3.11/dist-packages (from opencv-python) (2.0.2)\n"
          ]
        }
      ],
      "source": [
        "!pip install opencv-python"
      ]
    },
    {
      "cell_type": "markdown",
      "source": [
        "Definindo algumas funções de processamento de imagem que serão utilizadas"
      ],
      "metadata": {
        "id": "Jcedo9Hsf_O9"
      }
    },
    {
      "cell_type": "code",
      "execution_count": null,
      "metadata": {
        "id": "n7-mmuFxM3EC"
      },
      "outputs": [],
      "source": [
        "import cv2\n",
        "import numpy as np\n",
        "\n",
        "def aplicar_filtro_gaussiano(imagem):\n",
        "    return cv2.GaussianBlur(imagem, (5, 5), 0)\n",
        "\n",
        "def aplicar_clahe(imagem):\n",
        "    lab = cv2.cvtColor(imagem, cv2.COLOR_BGR2LAB)\n",
        "    l, a, b = cv2.split(lab)\n",
        "\n",
        "    clahe = cv2.createCLAHE(clipLimit=2.0, tileGridSize=(8, 8))\n",
        "    cl = clahe.apply(l)\n",
        "\n",
        "    lab_clahe = cv2.merge((cl, a, b))\n",
        "    return cv2.cvtColor(lab_clahe, cv2.COLOR_LAB2BGR)\n",
        "\n",
        "def aplicar_erosao(imagem):\n",
        "    kernel = np.ones((3, 3), np.uint8)\n",
        "    return cv2.erode(imagem, kernel, iterations=1)\n",
        "\n",
        "def aplicar_dilatacao(imagem):\n",
        "    kernel = np.ones((3, 3), np.uint8)\n",
        "    return cv2.dilate(imagem, kernel, iterations=1)\n",
        "\n",
        "def tratar_imagem(imagem):\n",
        "    imagem = aplicar_filtro_gaussiano(imagem)\n",
        "    imagem = aplicar_clahe(imagem)\n",
        "    imagem = aplicar_erosao(imagem)\n",
        "    imagem = aplicar_dilatacao(imagem)\n",
        "    return imagem\n"
      ]
    },
    {
      "cell_type": "markdown",
      "metadata": {
        "id": "giXyuszvMzAv"
      },
      "source": [
        "Agora vamos processar todas as imagens e salvar em uma nova pasta, aqui passamos todas as imagens de treino por esses filtros"
      ]
    },
    {
      "cell_type": "code",
      "execution_count": null,
      "metadata": {
        "id": "xdDXEPZFNUdC"
      },
      "outputs": [],
      "source": [
        "def processar_pastas(origem_base, destino_base):\n",
        "    categorias = ['healthy', 'rotten']\n",
        "\n",
        "    for categoria in categorias:\n",
        "        origem = os.path.join(origem_base, categoria)\n",
        "        destino = os.path.join(destino_base, categoria)\n",
        "        os.makedirs(destino, exist_ok=True)\n",
        "\n",
        "        for nome_arquivo in os.listdir(origem):\n",
        "            caminho_imagem = os.path.join(origem, nome_arquivo)\n",
        "            imagem = cv2.imread(caminho_imagem)\n",
        "\n",
        "            if imagem is None:\n",
        "                print(f\"Não foi possível carregar {caminho_imagem}\")\n",
        "                continue\n",
        "\n",
        "            imagem_tratada = tratar_imagem(imagem)\n",
        "\n",
        "            caminho_destino = os.path.join(destino, nome_arquivo)\n",
        "            cv2.imwrite(caminho_destino, imagem_tratada)\n",
        "\n",
        "base = dataset_path + \"/\" \"Apples Disease Dataset\"\n",
        "destino = dataset_path + \"/\" + \"Apples Disease Processed Dataset\"\n",
        "\n",
        "processar_pastas(base, destino)"
      ]
    },
    {
      "cell_type": "markdown",
      "metadata": {
        "id": "lRtsZ3UE5Xtk"
      },
      "source": [
        "Importando bibliotecas de Machine Learning e configurando"
      ]
    },
    {
      "cell_type": "code",
      "execution_count": null,
      "metadata": {
        "colab": {
          "base_uri": "https://localhost:8080/"
        },
        "id": "hgwgIQPqA-iF",
        "outputId": "c5e74cae-93ee-445f-f323-86227fe4271b"
      },
      "outputs": [
        {
          "name": "stdout",
          "output_type": "stream",
          "text": [
            "Requirement already satisfied: tensorflow in /usr/local/lib/python3.11/dist-packages (2.18.0)\n",
            "Requirement already satisfied: absl-py>=1.0.0 in /usr/local/lib/python3.11/dist-packages (from tensorflow) (1.4.0)\n",
            "Requirement already satisfied: astunparse>=1.6.0 in /usr/local/lib/python3.11/dist-packages (from tensorflow) (1.6.3)\n",
            "Requirement already satisfied: flatbuffers>=24.3.25 in /usr/local/lib/python3.11/dist-packages (from tensorflow) (25.2.10)\n",
            "Requirement already satisfied: gast!=0.5.0,!=0.5.1,!=0.5.2,>=0.2.1 in /usr/local/lib/python3.11/dist-packages (from tensorflow) (0.6.0)\n",
            "Requirement already satisfied: google-pasta>=0.1.1 in /usr/local/lib/python3.11/dist-packages (from tensorflow) (0.2.0)\n",
            "Requirement already satisfied: libclang>=13.0.0 in /usr/local/lib/python3.11/dist-packages (from tensorflow) (18.1.1)\n",
            "Requirement already satisfied: opt-einsum>=2.3.2 in /usr/local/lib/python3.11/dist-packages (from tensorflow) (3.4.0)\n",
            "Requirement already satisfied: packaging in /usr/local/lib/python3.11/dist-packages (from tensorflow) (24.2)\n",
            "Requirement already satisfied: protobuf!=4.21.0,!=4.21.1,!=4.21.2,!=4.21.3,!=4.21.4,!=4.21.5,<6.0.0dev,>=3.20.3 in /usr/local/lib/python3.11/dist-packages (from tensorflow) (5.29.4)\n",
            "Requirement already satisfied: requests<3,>=2.21.0 in /usr/local/lib/python3.11/dist-packages (from tensorflow) (2.32.3)\n",
            "Requirement already satisfied: setuptools in /usr/local/lib/python3.11/dist-packages (from tensorflow) (75.2.0)\n",
            "Requirement already satisfied: six>=1.12.0 in /usr/local/lib/python3.11/dist-packages (from tensorflow) (1.17.0)\n",
            "Requirement already satisfied: termcolor>=1.1.0 in /usr/local/lib/python3.11/dist-packages (from tensorflow) (3.0.1)\n",
            "Requirement already satisfied: typing-extensions>=3.6.6 in /usr/local/lib/python3.11/dist-packages (from tensorflow) (4.13.2)\n",
            "Requirement already satisfied: wrapt>=1.11.0 in /usr/local/lib/python3.11/dist-packages (from tensorflow) (1.17.2)\n",
            "Requirement already satisfied: grpcio<2.0,>=1.24.3 in /usr/local/lib/python3.11/dist-packages (from tensorflow) (1.71.0)\n",
            "Requirement already satisfied: tensorboard<2.19,>=2.18 in /usr/local/lib/python3.11/dist-packages (from tensorflow) (2.18.0)\n",
            "Requirement already satisfied: keras>=3.5.0 in /usr/local/lib/python3.11/dist-packages (from tensorflow) (3.8.0)\n",
            "Requirement already satisfied: numpy<2.1.0,>=1.26.0 in /usr/local/lib/python3.11/dist-packages (from tensorflow) (2.0.2)\n",
            "Requirement already satisfied: h5py>=3.11.0 in /usr/local/lib/python3.11/dist-packages (from tensorflow) (3.13.0)\n",
            "Requirement already satisfied: ml-dtypes<0.5.0,>=0.4.0 in /usr/local/lib/python3.11/dist-packages (from tensorflow) (0.4.1)\n",
            "Requirement already satisfied: tensorflow-io-gcs-filesystem>=0.23.1 in /usr/local/lib/python3.11/dist-packages (from tensorflow) (0.37.1)\n",
            "Requirement already satisfied: wheel<1.0,>=0.23.0 in /usr/local/lib/python3.11/dist-packages (from astunparse>=1.6.0->tensorflow) (0.45.1)\n",
            "Requirement already satisfied: rich in /usr/local/lib/python3.11/dist-packages (from keras>=3.5.0->tensorflow) (13.9.4)\n",
            "Requirement already satisfied: namex in /usr/local/lib/python3.11/dist-packages (from keras>=3.5.0->tensorflow) (0.0.9)\n",
            "Requirement already satisfied: optree in /usr/local/lib/python3.11/dist-packages (from keras>=3.5.0->tensorflow) (0.15.0)\n",
            "Requirement already satisfied: charset-normalizer<4,>=2 in /usr/local/lib/python3.11/dist-packages (from requests<3,>=2.21.0->tensorflow) (3.4.1)\n",
            "Requirement already satisfied: idna<4,>=2.5 in /usr/local/lib/python3.11/dist-packages (from requests<3,>=2.21.0->tensorflow) (3.10)\n",
            "Requirement already satisfied: urllib3<3,>=1.21.1 in /usr/local/lib/python3.11/dist-packages (from requests<3,>=2.21.0->tensorflow) (2.3.0)\n",
            "Requirement already satisfied: certifi>=2017.4.17 in /usr/local/lib/python3.11/dist-packages (from requests<3,>=2.21.0->tensorflow) (2025.1.31)\n",
            "Requirement already satisfied: markdown>=2.6.8 in /usr/local/lib/python3.11/dist-packages (from tensorboard<2.19,>=2.18->tensorflow) (3.8)\n",
            "Requirement already satisfied: tensorboard-data-server<0.8.0,>=0.7.0 in /usr/local/lib/python3.11/dist-packages (from tensorboard<2.19,>=2.18->tensorflow) (0.7.2)\n",
            "Requirement already satisfied: werkzeug>=1.0.1 in /usr/local/lib/python3.11/dist-packages (from tensorboard<2.19,>=2.18->tensorflow) (3.1.3)\n",
            "Requirement already satisfied: MarkupSafe>=2.1.1 in /usr/local/lib/python3.11/dist-packages (from werkzeug>=1.0.1->tensorboard<2.19,>=2.18->tensorflow) (3.0.2)\n",
            "Requirement already satisfied: markdown-it-py>=2.2.0 in /usr/local/lib/python3.11/dist-packages (from rich->keras>=3.5.0->tensorflow) (3.0.0)\n",
            "Requirement already satisfied: pygments<3.0.0,>=2.13.0 in /usr/local/lib/python3.11/dist-packages (from rich->keras>=3.5.0->tensorflow) (2.18.0)\n",
            "Requirement already satisfied: mdurl~=0.1 in /usr/local/lib/python3.11/dist-packages (from markdown-it-py>=2.2.0->rich->keras>=3.5.0->tensorflow) (0.1.2)\n"
          ]
        }
      ],
      "source": [
        "!pip install tensorflow"
      ]
    },
    {
      "cell_type": "code",
      "execution_count": null,
      "metadata": {
        "colab": {
          "base_uri": "https://localhost:8080/"
        },
        "id": "AhUnPWE95fEv",
        "outputId": "14dfdb82-7dde-442c-be24-b9739eabe9a0"
      },
      "outputs": [
        {
          "name": "stdout",
          "output_type": "stream",
          "text": [
            "Found 5363 images belonging to 2 classes.\n"
          ]
        }
      ],
      "source": [
        "import tensorflow as tf\n",
        "from tensorflow.keras.preprocessing.image import ImageDataGenerator\n",
        "from tensorflow.keras import layers, models\n",
        "\n",
        "# Caminho para o dataset processado com as pastas 'healthy' e 'rotten'\n",
        "train_dir = destino\n",
        "\n",
        "# Usando ImageDataGenerator para carregar as imagens e realizar aumento de dados\n",
        "train_datagen = ImageDataGenerator(\n",
        "    rescale=1./255,            # Normalizar as imagens\n",
        "    rotation_range=20,         # Rotacionar as imagens aleatoriamente\n",
        "    width_shift_range=0.2,     # Deslocar aleatoriamente a imagem horizontalmente\n",
        "    height_shift_range=0.2,    # Deslocar aleatoriamente a imagem verticalmente\n",
        "    shear_range=0.2,           # Aplicar cisalhamento\n",
        "    zoom_range=0.2,            # Aplicar zoom\n",
        "    horizontal_flip=True,      # Girar imagens horizontalmente\n",
        "    fill_mode='nearest'        # Preencher os espaços vazios com o valor mais próximo\n",
        ")\n",
        "\n",
        "train_generator = train_datagen.flow_from_directory(\n",
        "    train_dir,\n",
        "    target_size=(150, 150),    # Redimensionar para o tamanho esperado pelo modelo\n",
        "    batch_size=32,\n",
        "    class_mode='binary'        # Como temos 2 classes: saudável e estragada\n",
        ")"
      ]
    },
    {
      "cell_type": "markdown",
      "metadata": {
        "id": "cvNS_TAE5iZ3"
      },
      "source": [
        "Criando modelo de Rede Neural Convolucional (CNN), treinando e salvando"
      ]
    },
    {
      "cell_type": "code",
      "execution_count": null,
      "metadata": {
        "colab": {
          "base_uri": "https://localhost:8080/"
        },
        "id": "qT65KwGG5rwm",
        "outputId": "4ed9c58f-ba8f-46ea-b218-ae800978906a"
      },
      "outputs": [
        {
          "name": "stdout",
          "output_type": "stream",
          "text": [
            "Epoch 1/15\n",
            "\u001b[1m168/168\u001b[0m \u001b[32m━━━━━━━━━━━━━━━━━━━━\u001b[0m\u001b[37m\u001b[0m \u001b[1m320s\u001b[0m 2s/step - accuracy: 0.6020 - loss: 0.6986\n",
            "Epoch 2/15\n",
            "\u001b[1m168/168\u001b[0m \u001b[32m━━━━━━━━━━━━━━━━━━━━\u001b[0m\u001b[37m\u001b[0m \u001b[1m308s\u001b[0m 2s/step - accuracy: 0.8426 - loss: 0.3627\n",
            "Epoch 3/15\n",
            "\u001b[1m168/168\u001b[0m \u001b[32m━━━━━━━━━━━━━━━━━━━━\u001b[0m\u001b[37m\u001b[0m \u001b[1m311s\u001b[0m 2s/step - accuracy: 0.8914 - loss: 0.2700\n",
            "Epoch 4/15\n",
            "\u001b[1m168/168\u001b[0m \u001b[32m━━━━━━━━━━━━━━━━━━━━\u001b[0m\u001b[37m\u001b[0m \u001b[1m303s\u001b[0m 2s/step - accuracy: 0.9022 - loss: 0.2355\n",
            "Epoch 5/15\n",
            "\u001b[1m168/168\u001b[0m \u001b[32m━━━━━━━━━━━━━━━━━━━━\u001b[0m\u001b[37m\u001b[0m \u001b[1m312s\u001b[0m 2s/step - accuracy: 0.9073 - loss: 0.2124\n",
            "Epoch 6/15\n",
            "\u001b[1m168/168\u001b[0m \u001b[32m━━━━━━━━━━━━━━━━━━━━\u001b[0m\u001b[37m\u001b[0m \u001b[1m308s\u001b[0m 2s/step - accuracy: 0.9222 - loss: 0.1995\n",
            "Epoch 7/15\n",
            "\u001b[1m168/168\u001b[0m \u001b[32m━━━━━━━━━━━━━━━━━━━━\u001b[0m\u001b[37m\u001b[0m \u001b[1m306s\u001b[0m 2s/step - accuracy: 0.9399 - loss: 0.1431\n",
            "Epoch 8/15\n",
            "\u001b[1m168/168\u001b[0m \u001b[32m━━━━━━━━━━━━━━━━━━━━\u001b[0m\u001b[37m\u001b[0m \u001b[1m310s\u001b[0m 2s/step - accuracy: 0.9394 - loss: 0.1495\n",
            "Epoch 9/15\n",
            "\u001b[1m168/168\u001b[0m \u001b[32m━━━━━━━━━━━━━━━━━━━━\u001b[0m\u001b[37m\u001b[0m \u001b[1m303s\u001b[0m 2s/step - accuracy: 0.9509 - loss: 0.1234\n",
            "Epoch 10/15\n",
            "\u001b[1m168/168\u001b[0m \u001b[32m━━━━━━━━━━━━━━━━━━━━\u001b[0m\u001b[37m\u001b[0m \u001b[1m319s\u001b[0m 2s/step - accuracy: 0.9455 - loss: 0.1341\n",
            "Epoch 11/15\n",
            "\u001b[1m168/168\u001b[0m \u001b[32m━━━━━━━━━━━━━━━━━━━━\u001b[0m\u001b[37m\u001b[0m \u001b[1m302s\u001b[0m 2s/step - accuracy: 0.9580 - loss: 0.1100\n",
            "Epoch 12/15\n",
            "\u001b[1m168/168\u001b[0m \u001b[32m━━━━━━━━━━━━━━━━━━━━\u001b[0m\u001b[37m\u001b[0m \u001b[1m300s\u001b[0m 2s/step - accuracy: 0.9617 - loss: 0.0925\n",
            "Epoch 13/15\n",
            "\u001b[1m168/168\u001b[0m \u001b[32m━━━━━━━━━━━━━━━━━━━━\u001b[0m\u001b[37m\u001b[0m \u001b[1m302s\u001b[0m 2s/step - accuracy: 0.9609 - loss: 0.0963\n",
            "Epoch 14/15\n",
            "\u001b[1m168/168\u001b[0m \u001b[32m━━━━━━━━━━━━━━━━━━━━\u001b[0m\u001b[37m\u001b[0m \u001b[1m300s\u001b[0m 2s/step - accuracy: 0.9698 - loss: 0.0811\n",
            "Epoch 15/15\n",
            "\u001b[1m168/168\u001b[0m \u001b[32m━━━━━━━━━━━━━━━━━━━━\u001b[0m\u001b[37m\u001b[0m \u001b[1m298s\u001b[0m 2s/step - accuracy: 0.9686 - loss: 0.0825\n"
          ]
        }
      ],
      "source": [
        "model = models.Sequential([\n",
        "    layers.Conv2D(32, (3, 3), activation='relu', input_shape=(150, 150, 3)),\n",
        "    layers.MaxPooling2D((2, 2)),\n",
        "\n",
        "    layers.Conv2D(64, (3, 3), activation='relu'),\n",
        "    layers.MaxPooling2D((2, 2)),\n",
        "\n",
        "    layers.Conv2D(128, (3, 3), activation='relu'),\n",
        "    layers.MaxPooling2D((2, 2)),\n",
        "\n",
        "    layers.Flatten(),\n",
        "    layers.Dense(128, activation='relu'),\n",
        "    layers.Dense(1, activation='sigmoid')  # Saída binária: saudável ou estragada\n",
        "])\n",
        "\n",
        "model.compile(optimizer='adam', loss='binary_crossentropy', metrics=['accuracy'])\n",
        "\n",
        "# Treinar o modelo\n",
        "history = model.fit(train_generator, epochs=15, verbose=1)"
      ]
    },
    {
      "cell_type": "markdown",
      "metadata": {
        "id": "h9QPVoYLBxpH"
      },
      "source": [
        "Salvando o modelo no Google Drive para não precisar treinar de novo"
      ]
    },
    {
      "cell_type": "code",
      "execution_count": null,
      "metadata": {
        "colab": {
          "base_uri": "https://localhost:8080/"
        },
        "id": "9Ihjx-BVB2N6",
        "outputId": "14f4a3b6-1de3-426c-ab31-6f107c7cbb2a"
      },
      "outputs": [
        {
          "name": "stderr",
          "output_type": "stream",
          "text": [
            "WARNING:absl:You are saving your model as an HDF5 file via `model.save()` or `keras.saving.save_model(model)`. This file format is considered legacy. We recommend using instead the native Keras format, e.g. `model.save('my_model.keras')` or `keras.saving.save_model(model, 'my_model.keras')`. \n"
          ]
        },
        {
          "name": "stdout",
          "output_type": "stream",
          "text": [
            "Drive already mounted at /content/drive; to attempt to forcibly remount, call drive.mount(\"/content/drive\", force_remount=True).\n"
          ]
        }
      ],
      "source": [
        "from google.colab import drive\n",
        "drive.mount('/content/drive')\n",
        "\n",
        "# Salvar modelo no Drive\n",
        "model.save('/content/drive/MyDrive/model__preprocessed.h5')"
      ]
    },
    {
      "cell_type": "markdown",
      "metadata": {
        "id": "0486elh7CJpN"
      },
      "source": [
        "Caregando o modelo já treinado"
      ]
    },
    {
      "cell_type": "code",
      "execution_count": null,
      "metadata": {
        "colab": {
          "base_uri": "https://localhost:8080/"
        },
        "id": "pY7okLUJCLR0",
        "outputId": "3fe93933-09b1-4b74-8c4e-b703e79318be"
      },
      "outputs": [
        {
          "output_type": "stream",
          "name": "stdout",
          "text": [
            "Mounted at /content/drive\n"
          ]
        },
        {
          "output_type": "stream",
          "name": "stderr",
          "text": [
            "WARNING:absl:Compiled the loaded model, but the compiled metrics have yet to be built. `model.compile_metrics` will be empty until you train or evaluate the model.\n"
          ]
        }
      ],
      "source": [
        "from google.colab import drive\n",
        "drive.mount('/content/drive')\n",
        "\n",
        "from tensorflow.keras.models import load_model\n",
        "model = load_model('/content/drive/MyDrive/model__preprocessed.h5')"
      ]
    },
    {
      "cell_type": "markdown",
      "metadata": {
        "id": "vyzwwdmWBxnv"
      },
      "source": [
        "O trecho a seguir abrirá uma interface para uma competição interativa, responda se considera que a maçã apresentada está boa para consumo ou não"
      ]
    },
    {
      "cell_type": "code",
      "execution_count": null,
      "metadata": {
        "colab": {
          "base_uri": "https://localhost:8080/",
          "height": 249,
          "referenced_widgets": [
            "1c0fbb2671a9421f8521cd9e8c85ae30",
            "1230a3c7b1664027ad12b2c8fd6407d6",
            "5b287f6e6a4c4c7c8e51319e51dde2b9",
            "a6d304790f254f19912aca55186ceadd",
            "3bb73f2692b7415191c9a91699a24441",
            "2f20fdab474043a1ba64f78f59051fd6",
            "cfa6efe52b0d411cbadfe0ef33655842",
            "73c7a8d88442436099f2dcba2de74d4b",
            "70c9d4716d1e4b138c2394eb2c46b4ff",
            "378941199f584d4fa66c937c329dbddf",
            "34cba349b674492f9f91d64870c29d19",
            "19e48aac48114200a4aaa5f2b051a3f0",
            "4396be3eab8f4a0a877fe65061ab0bb9"
          ]
        },
        "id": "ARkMiIAK51At",
        "outputId": "62b6bb0a-b47f-473d-80c1-80fa18d806ad"
      },
      "outputs": [
        {
          "output_type": "display_data",
          "data": {
            "text/plain": [
              "HBox(children=(Button(button_style='success', description='🍏 Saudável', style=ButtonStyle()), Button(button_st…"
            ],
            "application/vnd.jupyter.widget-view+json": {
              "version_major": 2,
              "version_minor": 0,
              "model_id": "1c0fbb2671a9421f8521cd9e8c85ae30"
            }
          },
          "metadata": {}
        },
        {
          "output_type": "display_data",
          "data": {
            "text/plain": [
              "Button(button_style='info', description='Próxima ➡️', disabled=True, style=ButtonStyle())"
            ],
            "application/vnd.jupyter.widget-view+json": {
              "version_major": 2,
              "version_minor": 0,
              "model_id": "70c9d4716d1e4b138c2394eb2c46b4ff"
            }
          },
          "metadata": {}
        },
        {
          "output_type": "display_data",
          "data": {
            "text/plain": [
              "Output()"
            ],
            "application/vnd.jupyter.widget-view+json": {
              "version_major": 2,
              "version_minor": 0,
              "model_id": "19e48aac48114200a4aaa5f2b051a3f0"
            }
          },
          "metadata": {}
        },
        {
          "output_type": "stream",
          "name": "stdout",
          "text": [
            "\u001b[1m1/1\u001b[0m \u001b[32m━━━━━━━━━━━━━━━━━━━━\u001b[0m\u001b[37m\u001b[0m \u001b[1m0s\u001b[0m 47ms/step\n",
            "\u001b[1m1/1\u001b[0m \u001b[32m━━━━━━━━━━━━━━━━━━━━\u001b[0m\u001b[37m\u001b[0m \u001b[1m0s\u001b[0m 44ms/step\n",
            "\u001b[1m1/1\u001b[0m \u001b[32m━━━━━━━━━━━━━━━━━━━━\u001b[0m\u001b[37m\u001b[0m \u001b[1m0s\u001b[0m 45ms/step\n",
            "\u001b[1m1/1\u001b[0m \u001b[32m━━━━━━━━━━━━━━━━━━━━\u001b[0m\u001b[37m\u001b[0m \u001b[1m0s\u001b[0m 48ms/step\n",
            "\u001b[1m1/1\u001b[0m \u001b[32m━━━━━━━━━━━━━━━━━━━━\u001b[0m\u001b[37m\u001b[0m \u001b[1m0s\u001b[0m 46ms/step\n",
            "\u001b[1m1/1\u001b[0m \u001b[32m━━━━━━━━━━━━━━━━━━━━\u001b[0m\u001b[37m\u001b[0m \u001b[1m0s\u001b[0m 45ms/step\n",
            "\u001b[1m1/1\u001b[0m \u001b[32m━━━━━━━━━━━━━━━━━━━━\u001b[0m\u001b[37m\u001b[0m \u001b[1m0s\u001b[0m 46ms/step\n",
            "\u001b[1m1/1\u001b[0m \u001b[32m━━━━━━━━━━━━━━━━━━━━\u001b[0m\u001b[37m\u001b[0m \u001b[1m0s\u001b[0m 43ms/step\n",
            "\u001b[1m1/1\u001b[0m \u001b[32m━━━━━━━━━━━━━━━━━━━━\u001b[0m\u001b[37m\u001b[0m \u001b[1m0s\u001b[0m 45ms/step\n",
            "\u001b[1m1/1\u001b[0m \u001b[32m━━━━━━━━━━━━━━━━━━━━\u001b[0m\u001b[37m\u001b[0m \u001b[1m0s\u001b[0m 44ms/step\n",
            "\u001b[1m1/1\u001b[0m \u001b[32m━━━━━━━━━━━━━━━━━━━━\u001b[0m\u001b[37m\u001b[0m \u001b[1m0s\u001b[0m 62ms/step\n"
          ]
        }
      ],
      "source": [
        "import os\n",
        "from PIL import Image\n",
        "import numpy as np\n",
        "import matplotlib.pyplot as plt\n",
        "import cv2\n",
        "import random\n",
        "import ipywidgets as widgets\n",
        "from IPython.display import display, clear_output\n",
        "\n",
        "# Caminho da pasta\n",
        "folder_path = '/content/drive/MyDrive/fotos_macas/'\n",
        "\n",
        "def prepare_image(image):\n",
        "    image = tratar_imagem(image)\n",
        "    image = Image.fromarray(image)\n",
        "    image = image.convert('RGB')\n",
        "    image = image.resize((150, 150))\n",
        "    image = np.array(image) / 255.0\n",
        "    return np.expand_dims(image, axis=0)\n",
        "\n",
        "def predict(image):\n",
        "    image = prepare_image(image)\n",
        "    prediction = model.predict(image)\n",
        "    pred_value = prediction[0][0]\n",
        "    if pred_value < 0.5:\n",
        "        return \"Saudável\", (1 - pred_value)\n",
        "    else:\n",
        "        return \"Estragada\", pred_value\n",
        "\n",
        "# Lista e embaralha imagens\n",
        "image_files = [f for f in os.listdir(folder_path) if f.endswith(('jpg', 'png', 'jpeg'))]\n",
        "random.shuffle(image_files)\n",
        "\n",
        "# Variáveis de controle\n",
        "current_index = 0\n",
        "acertos = 0\n",
        "current_image_array = None  # Para garantir que a predição e visualização batem\n",
        "\n",
        "# Widgets\n",
        "output = widgets.Output()\n",
        "btn_saudavel = widgets.Button(description=\"🍏 Saudável\", button_style='success')\n",
        "btn_estragada = widgets.Button(description=\"☠️ Estragada\", button_style='danger')\n",
        "btn_proxima = widgets.Button(description=\"Próxima ➡️\", button_style='info', disabled=True)\n",
        "buttons_resposta = widgets.HBox([btn_saudavel, btn_estragada])\n",
        "\n",
        "# Função para mostrar imagem\n",
        "def mostrar_imagem():\n",
        "    global current_index, current_image_array\n",
        "    output.clear_output(wait=True)\n",
        "    if current_index < len(image_files):\n",
        "        image_path = os.path.join(folder_path, image_files[current_index])\n",
        "        image = cv2.imread(image_path)\n",
        "        if image is None:\n",
        "            print(f\"Erro ao carregar imagem: {image_path}\")\n",
        "            return\n",
        "        image = cv2.cvtColor(image, cv2.COLOR_BGR2RGB)\n",
        "        current_image_array = image.copy()  # Guardar para predição\n",
        "        with output:\n",
        "            plt.imshow(image)\n",
        "            plt.axis('off')\n",
        "            plt.show()\n",
        "        btn_proxima.disabled = True\n",
        "        btn_saudavel.disabled = False\n",
        "        btn_estragada.disabled = False\n",
        "    else:\n",
        "        with output:\n",
        "            print(f\"\\n🎉 Fim do jogo! Você acertou {acertos} de {len(image_files)}.\")\n",
        "        buttons_resposta.layout.display = 'none'\n",
        "        btn_proxima.layout.display = 'none'\n",
        "\n",
        "# Função para tratar clique em saudavel ou estragada\n",
        "def on_click_resposta(opcao):\n",
        "    def handler(b):\n",
        "        global current_index, acertos\n",
        "        label, prob = predict(current_image_array)\n",
        "\n",
        "        output.clear_output(wait=True)\n",
        "        with output:\n",
        "            plt.imshow(current_image_array)\n",
        "            plt.axis('off')\n",
        "            plt.show()\n",
        "            print(f\"Você escolheu: {opcao}\")\n",
        "            print(f\"Resultado do modelo: {label}\")\n",
        "\n",
        "            if opcao == label:\n",
        "                print(\"✅ Sua resposta condiz com a do modelo!\\n\")\n",
        "                acertos += 1\n",
        "            else:\n",
        "                print(\"❌ O modelo avaliou o contrário...\\n\")\n",
        "\n",
        "        btn_proxima.disabled = False\n",
        "        btn_saudavel.disabled = True\n",
        "        btn_estragada.disabled = True\n",
        "    return handler\n",
        "\n",
        "def on_click_proxima(b):\n",
        "    global current_index\n",
        "    current_index += 1\n",
        "    mostrar_imagem()\n",
        "\n",
        "# Associar handlers\n",
        "btn_saudavel.on_click(on_click_resposta(\"Saudável\"))\n",
        "btn_estragada.on_click(on_click_resposta(\"Estragada\"))\n",
        "btn_proxima.on_click(on_click_proxima)\n",
        "\n",
        "# Mostrar interface\n",
        "display(buttons_resposta)\n",
        "display(btn_proxima)\n",
        "display(output)\n",
        "mostrar_imagem()"
      ]
    },
    {
      "cell_type": "markdown",
      "metadata": {
        "id": "2vPqWmnhTpXA"
      },
      "source": [
        "💡 Conclusão\n",
        "\n",
        "A competição interativa com o modelo demonstra, na prática, o potencial de um\n",
        "modelo preditivo para avaliar qualidade de alimentos, as técnicas de processamento digital de imagens colaboram muito com o aprendizado, padronizando\n",
        "e melhorando as imagens."
      ]
    }
  ],
  "metadata": {
    "colab": {
      "provenance": [],
      "authorship_tag": "ABX9TyMGLJ9ikDxwediTJcNtJLss",
      "include_colab_link": true
    },
    "kernelspec": {
      "display_name": "Python 3",
      "name": "python3"
    },
    "language_info": {
      "name": "python"
    },
    "widgets": {
      "application/vnd.jupyter.widget-state+json": {
        "1c0fbb2671a9421f8521cd9e8c85ae30": {
          "model_module": "@jupyter-widgets/controls",
          "model_name": "HBoxModel",
          "model_module_version": "1.5.0",
          "state": {
            "_dom_classes": [],
            "_model_module": "@jupyter-widgets/controls",
            "_model_module_version": "1.5.0",
            "_model_name": "HBoxModel",
            "_view_count": null,
            "_view_module": "@jupyter-widgets/controls",
            "_view_module_version": "1.5.0",
            "_view_name": "HBoxView",
            "box_style": "",
            "children": [
              "IPY_MODEL_1230a3c7b1664027ad12b2c8fd6407d6",
              "IPY_MODEL_5b287f6e6a4c4c7c8e51319e51dde2b9"
            ],
            "layout": "IPY_MODEL_a6d304790f254f19912aca55186ceadd"
          }
        },
        "1230a3c7b1664027ad12b2c8fd6407d6": {
          "model_module": "@jupyter-widgets/controls",
          "model_name": "ButtonModel",
          "model_module_version": "1.5.0",
          "state": {
            "_dom_classes": [],
            "_model_module": "@jupyter-widgets/controls",
            "_model_module_version": "1.5.0",
            "_model_name": "ButtonModel",
            "_view_count": null,
            "_view_module": "@jupyter-widgets/controls",
            "_view_module_version": "1.5.0",
            "_view_name": "ButtonView",
            "button_style": "success",
            "description": "🍏 Saudável",
            "disabled": true,
            "icon": "",
            "layout": "IPY_MODEL_3bb73f2692b7415191c9a91699a24441",
            "style": "IPY_MODEL_2f20fdab474043a1ba64f78f59051fd6",
            "tooltip": ""
          }
        },
        "5b287f6e6a4c4c7c8e51319e51dde2b9": {
          "model_module": "@jupyter-widgets/controls",
          "model_name": "ButtonModel",
          "model_module_version": "1.5.0",
          "state": {
            "_dom_classes": [],
            "_model_module": "@jupyter-widgets/controls",
            "_model_module_version": "1.5.0",
            "_model_name": "ButtonModel",
            "_view_count": null,
            "_view_module": "@jupyter-widgets/controls",
            "_view_module_version": "1.5.0",
            "_view_name": "ButtonView",
            "button_style": "danger",
            "description": "☠️ Estragada",
            "disabled": true,
            "icon": "",
            "layout": "IPY_MODEL_cfa6efe52b0d411cbadfe0ef33655842",
            "style": "IPY_MODEL_73c7a8d88442436099f2dcba2de74d4b",
            "tooltip": ""
          }
        },
        "a6d304790f254f19912aca55186ceadd": {
          "model_module": "@jupyter-widgets/base",
          "model_name": "LayoutModel",
          "model_module_version": "1.2.0",
          "state": {
            "_model_module": "@jupyter-widgets/base",
            "_model_module_version": "1.2.0",
            "_model_name": "LayoutModel",
            "_view_count": null,
            "_view_module": "@jupyter-widgets/base",
            "_view_module_version": "1.2.0",
            "_view_name": "LayoutView",
            "align_content": null,
            "align_items": null,
            "align_self": null,
            "border": null,
            "bottom": null,
            "display": "none",
            "flex": null,
            "flex_flow": null,
            "grid_area": null,
            "grid_auto_columns": null,
            "grid_auto_flow": null,
            "grid_auto_rows": null,
            "grid_column": null,
            "grid_gap": null,
            "grid_row": null,
            "grid_template_areas": null,
            "grid_template_columns": null,
            "grid_template_rows": null,
            "height": null,
            "justify_content": null,
            "justify_items": null,
            "left": null,
            "margin": null,
            "max_height": null,
            "max_width": null,
            "min_height": null,
            "min_width": null,
            "object_fit": null,
            "object_position": null,
            "order": null,
            "overflow": null,
            "overflow_x": null,
            "overflow_y": null,
            "padding": null,
            "right": null,
            "top": null,
            "visibility": null,
            "width": null
          }
        },
        "3bb73f2692b7415191c9a91699a24441": {
          "model_module": "@jupyter-widgets/base",
          "model_name": "LayoutModel",
          "model_module_version": "1.2.0",
          "state": {
            "_model_module": "@jupyter-widgets/base",
            "_model_module_version": "1.2.0",
            "_model_name": "LayoutModel",
            "_view_count": null,
            "_view_module": "@jupyter-widgets/base",
            "_view_module_version": "1.2.0",
            "_view_name": "LayoutView",
            "align_content": null,
            "align_items": null,
            "align_self": null,
            "border": null,
            "bottom": null,
            "display": null,
            "flex": null,
            "flex_flow": null,
            "grid_area": null,
            "grid_auto_columns": null,
            "grid_auto_flow": null,
            "grid_auto_rows": null,
            "grid_column": null,
            "grid_gap": null,
            "grid_row": null,
            "grid_template_areas": null,
            "grid_template_columns": null,
            "grid_template_rows": null,
            "height": null,
            "justify_content": null,
            "justify_items": null,
            "left": null,
            "margin": null,
            "max_height": null,
            "max_width": null,
            "min_height": null,
            "min_width": null,
            "object_fit": null,
            "object_position": null,
            "order": null,
            "overflow": null,
            "overflow_x": null,
            "overflow_y": null,
            "padding": null,
            "right": null,
            "top": null,
            "visibility": null,
            "width": null
          }
        },
        "2f20fdab474043a1ba64f78f59051fd6": {
          "model_module": "@jupyter-widgets/controls",
          "model_name": "ButtonStyleModel",
          "model_module_version": "1.5.0",
          "state": {
            "_model_module": "@jupyter-widgets/controls",
            "_model_module_version": "1.5.0",
            "_model_name": "ButtonStyleModel",
            "_view_count": null,
            "_view_module": "@jupyter-widgets/base",
            "_view_module_version": "1.2.0",
            "_view_name": "StyleView",
            "button_color": null,
            "font_weight": ""
          }
        },
        "cfa6efe52b0d411cbadfe0ef33655842": {
          "model_module": "@jupyter-widgets/base",
          "model_name": "LayoutModel",
          "model_module_version": "1.2.0",
          "state": {
            "_model_module": "@jupyter-widgets/base",
            "_model_module_version": "1.2.0",
            "_model_name": "LayoutModel",
            "_view_count": null,
            "_view_module": "@jupyter-widgets/base",
            "_view_module_version": "1.2.0",
            "_view_name": "LayoutView",
            "align_content": null,
            "align_items": null,
            "align_self": null,
            "border": null,
            "bottom": null,
            "display": null,
            "flex": null,
            "flex_flow": null,
            "grid_area": null,
            "grid_auto_columns": null,
            "grid_auto_flow": null,
            "grid_auto_rows": null,
            "grid_column": null,
            "grid_gap": null,
            "grid_row": null,
            "grid_template_areas": null,
            "grid_template_columns": null,
            "grid_template_rows": null,
            "height": null,
            "justify_content": null,
            "justify_items": null,
            "left": null,
            "margin": null,
            "max_height": null,
            "max_width": null,
            "min_height": null,
            "min_width": null,
            "object_fit": null,
            "object_position": null,
            "order": null,
            "overflow": null,
            "overflow_x": null,
            "overflow_y": null,
            "padding": null,
            "right": null,
            "top": null,
            "visibility": null,
            "width": null
          }
        },
        "73c7a8d88442436099f2dcba2de74d4b": {
          "model_module": "@jupyter-widgets/controls",
          "model_name": "ButtonStyleModel",
          "model_module_version": "1.5.0",
          "state": {
            "_model_module": "@jupyter-widgets/controls",
            "_model_module_version": "1.5.0",
            "_model_name": "ButtonStyleModel",
            "_view_count": null,
            "_view_module": "@jupyter-widgets/base",
            "_view_module_version": "1.2.0",
            "_view_name": "StyleView",
            "button_color": null,
            "font_weight": ""
          }
        },
        "70c9d4716d1e4b138c2394eb2c46b4ff": {
          "model_module": "@jupyter-widgets/controls",
          "model_name": "ButtonModel",
          "model_module_version": "1.5.0",
          "state": {
            "_dom_classes": [],
            "_model_module": "@jupyter-widgets/controls",
            "_model_module_version": "1.5.0",
            "_model_name": "ButtonModel",
            "_view_count": null,
            "_view_module": "@jupyter-widgets/controls",
            "_view_module_version": "1.5.0",
            "_view_name": "ButtonView",
            "button_style": "info",
            "description": "Próxima ➡️",
            "disabled": false,
            "icon": "",
            "layout": "IPY_MODEL_378941199f584d4fa66c937c329dbddf",
            "style": "IPY_MODEL_34cba349b674492f9f91d64870c29d19",
            "tooltip": ""
          }
        },
        "378941199f584d4fa66c937c329dbddf": {
          "model_module": "@jupyter-widgets/base",
          "model_name": "LayoutModel",
          "model_module_version": "1.2.0",
          "state": {
            "_model_module": "@jupyter-widgets/base",
            "_model_module_version": "1.2.0",
            "_model_name": "LayoutModel",
            "_view_count": null,
            "_view_module": "@jupyter-widgets/base",
            "_view_module_version": "1.2.0",
            "_view_name": "LayoutView",
            "align_content": null,
            "align_items": null,
            "align_self": null,
            "border": null,
            "bottom": null,
            "display": "none",
            "flex": null,
            "flex_flow": null,
            "grid_area": null,
            "grid_auto_columns": null,
            "grid_auto_flow": null,
            "grid_auto_rows": null,
            "grid_column": null,
            "grid_gap": null,
            "grid_row": null,
            "grid_template_areas": null,
            "grid_template_columns": null,
            "grid_template_rows": null,
            "height": null,
            "justify_content": null,
            "justify_items": null,
            "left": null,
            "margin": null,
            "max_height": null,
            "max_width": null,
            "min_height": null,
            "min_width": null,
            "object_fit": null,
            "object_position": null,
            "order": null,
            "overflow": null,
            "overflow_x": null,
            "overflow_y": null,
            "padding": null,
            "right": null,
            "top": null,
            "visibility": null,
            "width": null
          }
        },
        "34cba349b674492f9f91d64870c29d19": {
          "model_module": "@jupyter-widgets/controls",
          "model_name": "ButtonStyleModel",
          "model_module_version": "1.5.0",
          "state": {
            "_model_module": "@jupyter-widgets/controls",
            "_model_module_version": "1.5.0",
            "_model_name": "ButtonStyleModel",
            "_view_count": null,
            "_view_module": "@jupyter-widgets/base",
            "_view_module_version": "1.2.0",
            "_view_name": "StyleView",
            "button_color": null,
            "font_weight": ""
          }
        },
        "19e48aac48114200a4aaa5f2b051a3f0": {
          "model_module": "@jupyter-widgets/output",
          "model_name": "OutputModel",
          "model_module_version": "1.0.0",
          "state": {
            "_dom_classes": [],
            "_model_module": "@jupyter-widgets/output",
            "_model_module_version": "1.0.0",
            "_model_name": "OutputModel",
            "_view_count": null,
            "_view_module": "@jupyter-widgets/output",
            "_view_module_version": "1.0.0",
            "_view_name": "OutputView",
            "layout": "IPY_MODEL_4396be3eab8f4a0a877fe65061ab0bb9",
            "msg_id": "",
            "outputs": [
              {
                "output_type": "stream",
                "name": "stdout",
                "text": [
                  "\n",
                  "🎉 Fim do jogo! Você acertou 6 de 11.\n"
                ]
              }
            ]
          }
        },
        "4396be3eab8f4a0a877fe65061ab0bb9": {
          "model_module": "@jupyter-widgets/base",
          "model_name": "LayoutModel",
          "model_module_version": "1.2.0",
          "state": {
            "_model_module": "@jupyter-widgets/base",
            "_model_module_version": "1.2.0",
            "_model_name": "LayoutModel",
            "_view_count": null,
            "_view_module": "@jupyter-widgets/base",
            "_view_module_version": "1.2.0",
            "_view_name": "LayoutView",
            "align_content": null,
            "align_items": null,
            "align_self": null,
            "border": null,
            "bottom": null,
            "display": null,
            "flex": null,
            "flex_flow": null,
            "grid_area": null,
            "grid_auto_columns": null,
            "grid_auto_flow": null,
            "grid_auto_rows": null,
            "grid_column": null,
            "grid_gap": null,
            "grid_row": null,
            "grid_template_areas": null,
            "grid_template_columns": null,
            "grid_template_rows": null,
            "height": null,
            "justify_content": null,
            "justify_items": null,
            "left": null,
            "margin": null,
            "max_height": null,
            "max_width": null,
            "min_height": null,
            "min_width": null,
            "object_fit": null,
            "object_position": null,
            "order": null,
            "overflow": null,
            "overflow_x": null,
            "overflow_y": null,
            "padding": null,
            "right": null,
            "top": null,
            "visibility": null,
            "width": null
          }
        }
      }
    }
  },
  "nbformat": 4,
  "nbformat_minor": 0
}